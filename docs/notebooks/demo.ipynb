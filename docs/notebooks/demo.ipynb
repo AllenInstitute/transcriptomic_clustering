{
 "cells": [
  {
   "cell_type": "markdown",
   "id": "c6888753",
   "metadata": {},
   "source": [
    "# Transcriptomic Clustering"
   ]
  },
  {
   "cell_type": "code",
   "execution_count": 2,
   "id": "fe31b78c",
   "metadata": {},
   "outputs": [],
   "source": [
    "import transcriptomic_clustering as tc\n",
    "import scanpy as sc"
   ]
  },
  {
   "cell_type": "markdown",
   "id": "e489f10f",
   "metadata": {},
   "source": [
    "## Loading Data\n",
    "transcriptomic_clustering functions operate on Annotation Data, from part of scanpy/anndata. This supports both dense np.ndarray's and sparse scipy.csr arrays for the matrix, and additional .['obs'], .['obsm'] and .['var'], [.varm] fields for storing information about the observations (cells) and variables (genes). Data is stored as an H5 file, allowing for both in-memory and file-backed operations. For more information, see https://anndata.readthedocs.io/en/latest/"
   ]
  },
  {
   "cell_type": "code",
   "execution_count": 3,
   "id": "fd65a8c7",
   "metadata": {},
   "outputs": [],
   "source": [
    "# Data is load into memory. Add 'r' or 'r+' for reading and modifying filebacked annotation data\n",
    "tasic_adata = sc.read_h5ad('./data/tasic2016counts_csr.h5ad')"
   ]
  },
  {
   "cell_type": "markdown",
   "id": "9486e1c7",
   "metadata": {},
   "source": [
    "## General API patterns\n",
    "### Appending to AnnData objects\n",
    "Many functions in the transcriptomic package calculate features of the data. By default, they will return the values, e.g.\n",
    "``` \n",
    "means, variances = tc.get_gene_means_variances(adata)\n",
    "```\n",
    "However, some functions allow you to add the data to the AnnData object instead\n",
    "```\n",
    "tc.get_gene_means_variances(adata, annotate=True)\n",
    "print(adata.var['mean_exp'])\n",
    "print(adata.var['var_exp'])\n",
    "```\n",
    "### Modifying AnnData in Place or Making a Copy\n",
    "A function that modifies AnnData will by default modify it in place.\n",
    "You can make a copy by passing one of these two optional arguments\n",
    "to functions that modify AnnData.X\n",
    "\n",
    "#### In Place\n",
    "Simply call the function on the AnnData object, and it will be modified in place.\n",
    "```\n",
    "tc.normalize(tasic_adata)\n",
    "```\n",
    "All functions will return a reference to the modified AnnData object, copied or not.\n",
    "For example, the following is the same as the above:\n",
    "```\n",
    "normalized_data = tc.normalize(tasic_adata)\n",
    "```\n",
    "Since this is in-place, normalized_data and tasic_adata is the same object.\n",
    "You can verify this, as `normalized_adata is tasic_adata` returns True.\n",
    "\n",
    "#### In Memory\n",
    "To make a copy in memory, pass `inplace=False`\n",
    "For example:\n",
    "```\n",
    "normalized_adata = tc.normalize(tasic_adata, inplace=False)\n",
    "```\n",
    "In this case, normalized_adata is a copy, and `normalized_adata is tasic_adata` returns False\n",
    "#### Filebacked\n",
    "To make a file-backed copy, pass `copy_to=path/to/new/file.h5ad`\n",
    "For example:\n",
    "```\n",
    "normalized_adata = tc.normalize(tasic_adata, copy_to='path/to/new/file.h5ad')\n",
    "```\n"
   ]
  },
  {
   "cell_type": "markdown",
   "id": "196d5561",
   "metadata": {},
   "source": [
    "## Running the Pipeline"
   ]
  },
  {
   "cell_type": "markdown",
   "id": "f5a571e3",
   "metadata": {},
   "source": [
    "### Normalization\n",
    "(insert details here)"
   ]
  },
  {
   "cell_type": "code",
   "execution_count": 4,
   "id": "0103c993",
   "metadata": {},
   "outputs": [],
   "source": [
    "normalized_adata = tc.normalize(tasic_adata)"
   ]
  },
  {
   "cell_type": "markdown",
   "id": "00c88622",
   "metadata": {},
   "source": [
    "### Highly Variable Genes\n",
    "\n",
    "We extract highly variable genes (HVGs) to further reduce the dimensionality of the dataset and include only the most informative genes. Genes that vary substantially across the dataset are informative of the underlying biological variation in the data. As we only want to capture biological variation in these genes, we select highly variable genes after normalization. HVGs will be used for the following dimensionality reduction and clustering.\n",
    "\n",
    "Original hicat R codes use log10 of means and dispersion for loess fit. We change it to natural log for loess fit. \n",
    "\n",
    "<table><tr>\n",
    "<td> <img width=\"480\" alt=\"hvgs\" src=\"https://raw.githubusercontent.com/gnayuy/ai_work_related/main/loess_fit_tasic2016.png\"> </td>\n",
    "<td> <img width=\"480\" alt=\"hvgs\" src=\"https://raw.githubusercontent.com/gnayuy/ai_work_related/main/hvgs_tasic2016.png\"> </td>\n",
    "</tr></table>\n",
    "\n",
    "Similar to normalization, we can compute means, variances, and gene_mask "
   ]
  },
  {
   "cell_type": "code",
   "execution_count": 5,
   "id": "e8458297",
   "metadata": {},
   "outputs": [
    {
     "data": {
      "text/plain": [
       "Index(['0610007N19Rik', '0610039K10Rik', '0610040J01Rik', '1110006O24Rik',\n",
       "       '1110015O18Rik', '1110050K14Rik', '1190002F15Rik', '1190005I06Rik',\n",
       "       '1500010J02Rik', '1500015L24Rik',\n",
       "       ...\n",
       "       'mt_AK131586', 'mt_AK139026', 'mt_AK141881', 'mt_AK143357',\n",
       "       'mt_AK157367', 'mt_AK159262', 'mt_AK166684', 'mt_BC006023',\n",
       "       'mt_BC104337', 'mt_GU332589'],\n",
       "      dtype='object', length=3000)"
      ]
     },
     "execution_count": 5,
     "metadata": {},
     "output_type": "execute_result"
    }
   ],
   "source": [
    "means, variances, gene_mask = tc.means_vars_genes(adata=normalized_adata, chunk_size=300)\n",
    "tc.highly_variable_genes(adata=normalized_adata, means=means, variances=variances, gene_mask=gene_mask, max_genes=3000)\n",
    "normalized_adata.var_names[normalized_adata.var['highly_variable']]"
   ]
  },
  {
   "cell_type": "markdown",
   "id": "93e4f10e",
   "metadata": {},
   "source": [
    "### PCA analysis\n",
    "The `tc.pca()` function uses scipy's pca solver or SKlearn under the hood"
   ]
  },
  {
   "cell_type": "code",
   "execution_count": null,
   "id": "5638aa37",
   "metadata": {},
   "outputs": [],
   "source": [
    "(components, explained_variance_ratio, explained_variance) = \\\n",
    "    tc.pca(normalized_adata, cell_mask=1000, use_highly_variable=True)"
   ]
  },
  {
   "cell_type": "markdown",
   "id": "50cf0349",
   "metadata": {},
   "source": [
    "### Louvain Clustering"
   ]
  },
  {
   "cell_type": "markdown",
   "id": "81a1501d",
   "metadata": {},
   "source": [
    "### Future APIs\n",
    "filter known modes\n",
    "wcgna\n",
    "ward clustering\n",
    "merging\n",
    "hierarchical sorting"
   ]
  },
  {
   "cell_type": "markdown",
   "id": "2783107c",
   "metadata": {},
   "source": [
    "### Managing Memory\n",
    "setting limits\n",
    "writing files\n",
    "chunking"
   ]
  },
  {
   "cell_type": "markdown",
   "id": "da5c7651",
   "metadata": {},
   "source": [
    "## Accuracy Compared to R"
   ]
  },
  {
   "cell_type": "markdown",
   "id": "4f87046d",
   "metadata": {},
   "source": [
    "### Normalize\n",
    "(plots/stats)"
   ]
  },
  {
   "cell_type": "markdown",
   "id": "395a7c99",
   "metadata": {},
   "source": [
    "### HVGs\n",
    "\n",
    "<table><tr>\n",
    "<td> <img width=\"480\" alt=\"hvgs_unchunk\" src=\"https://raw.githubusercontent.com/gnayuy/ai_work_related/main/filtergenes_hvg_large_unchunk.png\"> </td>\n",
    "<td> <img width=\"480\" alt=\"hvgs_chunked\" src=\"https://raw.githubusercontent.com/gnayuy/ai_work_related/main/filtergenes_hvg_large_chunked.png\"> </td>\n",
    "</tr></table>"
   ]
  },
  {
   "cell_type": "markdown",
   "id": "d9984c56",
   "metadata": {},
   "source": [
    "### PCA"
   ]
  }
 ],
 "metadata": {
  "kernelspec": {
   "display_name": "Python 3",
   "language": "python",
   "name": "python3"
  },
  "language_info": {
   "codemirror_mode": {
    "name": "ipython",
    "version": 3
   },
   "file_extension": ".py",
   "mimetype": "text/x-python",
   "name": "python",
   "nbconvert_exporter": "python",
   "pygments_lexer": "ipython3",
   "version": "3.8.5"
  }
 },
 "nbformat": 4,
 "nbformat_minor": 5
}
