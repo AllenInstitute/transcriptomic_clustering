{
 "cells": [
  {
   "cell_type": "markdown",
   "id": "c6888753",
   "metadata": {},
   "source": [
    "# Transcriptomic Clustering"
   ]
  },
  {
   "cell_type": "code",
   "execution_count": 1,
   "id": "fe31b78c",
   "metadata": {},
   "outputs": [],
   "source": [
    "import transcriptomic_clustering as tc\n",
    "import scanpy as sc"
   ]
  },
  {
   "cell_type": "markdown",
   "id": "e489f10f",
   "metadata": {},
   "source": [
    "## Loading Data\n",
    "transcriptomic_clustering functions operate on Annotation Data, from part of scanpy/anndata. This supports both dense np.ndarray's and sparse scipy.csr arrays for the matrix, and additional .['obs'], .['obsm'] and .['var'], [.varm] fields for storing information about the observations (cells) and variables (genes). Data is stored as an H5 file, allowing for both in-memory and file-backed operations. For more information, see https://anndata.readthedocs.io/en/latest/"
   ]
  },
  {
   "cell_type": "code",
   "execution_count": 2,
   "id": "fd65a8c7",
   "metadata": {},
   "outputs": [],
   "source": [
    "# Data is load into memory. Add 'r' or 'r+' for reading and modifying filebacked annotation data\n",
    "tasic_adata = sc.read_h5ad('./data/tasic2016counts_csr.h5ad')"
   ]
  },
  {
   "cell_type": "markdown",
   "id": "9486e1c7",
   "metadata": {},
   "source": [
    "## General API patterns\n",
    "### Appending to AnnData objects\n",
    "Many functions in the transcriptomic package calculate features of the data. By default, they will return the values, e.g.\n",
    "``` \n",
    "means, variances = tc.get_gene_means_variances(adata)\n",
    "```\n",
    "However, some functions allow you to add the data to the AnnData object instead\n",
    "```\n",
    "tc.get_gene_means_variances(adata, annotate=True)\n",
    "print(adata.var['mean_exp'])\n",
    "print(adata.var['var_exp'])\n",
    "```\n",
    "### Modifying AnnData in Place or Making a Copy\n",
    "A function that modifies AnnData will by default modify it in place.\n",
    "You can make a copy by passing one of these two optional arguments\n",
    "to functions that modify AnnData.X\n",
    "\n",
    "#### In Place\n",
    "Simply call the function on the AnnData object, and it will be modified in place.\n",
    "```\n",
    "tc.normalize(tasic_adata)\n",
    "```\n",
    "All functions will return a reference to the modified AnnData object, copied or not.\n",
    "For example, the following is the same as the above:\n",
    "```\n",
    "normalized_data = tc.normalize(tasic_adata)\n",
    "```\n",
    "Since this is in-place, normalized_data and tasic_adata is the same object.\n",
    "You can verify this, as `normalized_adata is tasic_adata` returns True.\n",
    "\n",
    "#### In Memory\n",
    "To make a copy in memory, pass `inplace=False`\n",
    "For example:\n",
    "```\n",
    "normalized_adata = tc.normalize(tasic_adata, inplace=False)\n",
    "```\n",
    "In this case, normalized_adata is a copy, and `normalized_adata is tasic_adata` returns False\n",
    "#### Filebacked\n",
    "To make a file-backed copy, pass `copy_to=path/to/new/file.h5ad`\n",
    "For example:\n",
    "```\n",
    "normalized_adata = tc.normalize(tasic_adata, copy_to='path/to/new/file.h5ad')\n",
    "```\n"
   ]
  },
  {
   "cell_type": "markdown",
   "id": "196d5561",
   "metadata": {},
   "source": [
    "## Running the Pipeline"
   ]
  },
  {
   "cell_type": "markdown",
   "id": "f5a571e3",
   "metadata": {},
   "source": [
    "### Normalization\n",
    "(insert details here)"
   ]
  },
  {
   "cell_type": "code",
   "execution_count": 3,
   "id": "0103c993",
   "metadata": {},
   "outputs": [
    {
     "data": {
      "text/plain": [
       "True"
      ]
     },
     "execution_count": 3,
     "metadata": {},
     "output_type": "execute_result"
    }
   ],
   "source": [
    "normalized_adata = tc.normalize(tasic_adata)"
   ]
  },
  {
   "cell_type": "markdown",
   "id": "00c88622",
   "metadata": {},
   "source": [
    "### Selecting Highly Variant Genes\n",
    "(insert details here)"
   ]
  },
  {
   "cell_type": "code",
   "execution_count": 5,
   "id": "e8458297",
   "metadata": {},
   "outputs": [
    {
     "ename": "ValueError",
     "evalue": "please input either chunk_size or process_memory to run means_vars_genes",
     "output_type": "error",
     "traceback": [
      "\u001b[0;31m---------------------------------------------------------------------------\u001b[0m",
      "\u001b[0;31mValueError\u001b[0m                                Traceback (most recent call last)",
      "\u001b[0;32m<ipython-input-5-ca5ec1d1405c>\u001b[0m in \u001b[0;36m<module>\u001b[0;34m\u001b[0m\n\u001b[0;32m----> 1\u001b[0;31m \u001b[0mmeans\u001b[0m\u001b[0;34m,\u001b[0m \u001b[0mvariances\u001b[0m \u001b[0;34m=\u001b[0m \u001b[0mtc\u001b[0m\u001b[0;34m.\u001b[0m\u001b[0mmeans_vars_genes\u001b[0m\u001b[0;34m(\u001b[0m\u001b[0madata\u001b[0m\u001b[0;34m=\u001b[0m\u001b[0mnormalized_adata\u001b[0m\u001b[0;34m)\u001b[0m\u001b[0;34m\u001b[0m\u001b[0;34m\u001b[0m\u001b[0m\n\u001b[0m\u001b[1;32m      2\u001b[0m \u001b[0mtc\u001b[0m\u001b[0;34m.\u001b[0m\u001b[0mhighly_variable_genes\u001b[0m\u001b[0;34m(\u001b[0m\u001b[0madata\u001b[0m\u001b[0;34m=\u001b[0m\u001b[0mnormalized_adata\u001b[0m\u001b[0;34m,\u001b[0m \u001b[0mmeans\u001b[0m\u001b[0;34m=\u001b[0m\u001b[0mmeans\u001b[0m\u001b[0;34m,\u001b[0m \u001b[0mvariances\u001b[0m\u001b[0;34m=\u001b[0m\u001b[0mvariances\u001b[0m\u001b[0;34m,\u001b[0m \u001b[0mmax_genes\u001b[0m\u001b[0;34m=\u001b[0m\u001b[0;36m3000\u001b[0m\u001b[0;34m)\u001b[0m\u001b[0;34m\u001b[0m\u001b[0;34m\u001b[0m\u001b[0m\n\u001b[1;32m      3\u001b[0m \u001b[0mnormalized_adata\u001b[0m\u001b[0;34m.\u001b[0m\u001b[0mvar\u001b[0m\u001b[0;34m[\u001b[0m\u001b[0;34m'highly_variable'\u001b[0m\u001b[0;34m]\u001b[0m\u001b[0;34m\u001b[0m\u001b[0;34m\u001b[0m\u001b[0m\n",
      "\u001b[0;32m~/allen_dev/transcriptomic_clustering/transcriptomic_clustering/utils/means_vars_genes.py\u001b[0m in \u001b[0;36mmeans_vars_genes\u001b[0;34m(adata, low_thresh, min_cells, chunk_size, process_memory)\u001b[0m\n\u001b[1;32m     40\u001b[0m         \u001b[0mmemory\u001b[0m \u001b[0;34m=\u001b[0m \u001b[0mtc\u001b[0m\u001b[0;34m.\u001b[0m\u001b[0mutils\u001b[0m\u001b[0;34m.\u001b[0m\u001b[0mmemory\u001b[0m\u001b[0;34m.\u001b[0m\u001b[0mMemory\u001b[0m\u001b[0;34m(\u001b[0m\u001b[0;34m)\u001b[0m\u001b[0;34m\u001b[0m\u001b[0;34m\u001b[0m\u001b[0m\n\u001b[1;32m     41\u001b[0m         \u001b[0;32mif\u001b[0m \u001b[0;32mnot\u001b[0m \u001b[0mprocess_memory\u001b[0m\u001b[0;34m:\u001b[0m\u001b[0;34m\u001b[0m\u001b[0;34m\u001b[0m\u001b[0m\n\u001b[0;32m---> 42\u001b[0;31m             \u001b[0;32mraise\u001b[0m \u001b[0mValueError\u001b[0m\u001b[0;34m(\u001b[0m\u001b[0;34m\"please input either chunk_size or process_memory to run means_vars_genes\"\u001b[0m\u001b[0;34m)\u001b[0m\u001b[0;34m\u001b[0m\u001b[0;34m\u001b[0m\u001b[0m\n\u001b[0m\u001b[1;32m     43\u001b[0m         \u001b[0mchunk_size\u001b[0m \u001b[0;34m=\u001b[0m \u001b[0mmemory\u001b[0m\u001b[0;34m.\u001b[0m\u001b[0mestimate_chunk_size\u001b[0m\u001b[0;34m(\u001b[0m\u001b[0madata\u001b[0m\u001b[0;34m,\u001b[0m \u001b[0mprocess_memory\u001b[0m\u001b[0;34m,\u001b[0m \u001b[0mpercent_allowed\u001b[0m \u001b[0;34m=\u001b[0m \u001b[0;36m50\u001b[0m\u001b[0;34m)\u001b[0m\u001b[0;34m\u001b[0m\u001b[0;34m\u001b[0m\u001b[0m\n\u001b[1;32m     44\u001b[0m \u001b[0;34m\u001b[0m\u001b[0m\n",
      "\u001b[0;31mValueError\u001b[0m: please input either chunk_size or process_memory to run means_vars_genes"
     ]
    }
   ],
   "source": [
    "means, variances = tc.means_vars_genes(adata=normalized_adata)\n",
    "tc.highly_variable_genes(adata=normalized_adata, means=means, variances=variances, max_genes=3000)\n",
    "normalized_adata.var['highly_variable']"
   ]
  },
  {
   "cell_type": "markdown",
   "id": "93e4f10e",
   "metadata": {},
   "source": [
    "### PCA analysis\n",
    "The `tc.pca()` function uses scipy's pca solver or SKlearn under the hood"
   ]
  },
  {
   "cell_type": "code",
   "execution_count": null,
   "id": "5638aa37",
   "metadata": {},
   "outputs": [],
   "source": [
    "(components, explained_variance_ratio, explained_variance) = \\\n",
    "    tc.pca(normalized_adata, cell_mask=1000, use_highly_variable=True)"
   ]
  },
  {
   "cell_type": "markdown",
   "id": "50cf0349",
   "metadata": {},
   "source": [
    "### Louvain Clustering"
   ]
  },
  {
   "cell_type": "markdown",
   "id": "81a1501d",
   "metadata": {},
   "source": [
    "### Future APIs\n",
    "filter known modes\n",
    "wcgna\n",
    "ward clustering\n",
    "merging\n",
    "hierarchical sorting"
   ]
  },
  {
   "cell_type": "markdown",
   "id": "2783107c",
   "metadata": {},
   "source": [
    "### Managing Memory\n",
    "setting limits\n",
    "writing files\n",
    "chunking"
   ]
  },
  {
   "cell_type": "markdown",
   "id": "da5c7651",
   "metadata": {},
   "source": [
    "## Accuracy Compared to R"
   ]
  },
  {
   "cell_type": "markdown",
   "id": "4f87046d",
   "metadata": {},
   "source": [
    "### Normalize\n",
    "(plots/stats)"
   ]
  },
  {
   "cell_type": "markdown",
   "id": "395a7c99",
   "metadata": {},
   "source": [
    "### HVG\n",
    "(plots/stats)"
   ]
  },
  {
   "cell_type": "markdown",
   "id": "d9984c56",
   "metadata": {},
   "source": [
    "### PCA"
   ]
  }
 ],
 "metadata": {
  "kernelspec": {
   "display_name": "Python [conda env:trans_clust] *",
   "language": "python",
   "name": "conda-env-trans_clust-py"
  },
  "language_info": {
   "codemirror_mode": {
    "name": "ipython",
    "version": 3
   },
   "file_extension": ".py",
   "mimetype": "text/x-python",
   "name": "python",
   "nbconvert_exporter": "python",
   "pygments_lexer": "ipython3",
   "version": "3.8.8"
  }
 },
 "nbformat": 4,
 "nbformat_minor": 5
}
