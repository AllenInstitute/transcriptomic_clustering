{
 "cells": [
  {
   "cell_type": "markdown",
   "id": "c6888753",
   "metadata": {},
   "source": [
    "# Transcriptomic Clustering"
   ]
  },
  {
   "cell_type": "code",
   "execution_count": 1,
   "id": "fe31b78c",
   "metadata": {},
   "outputs": [],
   "source": [
    "import transcriptomic_clustering as tc\n",
    "import scanpy as sc"
   ]
  },
  {
   "cell_type": "markdown",
   "id": "e489f10f",
   "metadata": {},
   "source": [
    "## Loading Data\n",
    "transcriptomic_clustering functions operate on Annotation Data, from part of scanpy/anndata. This supports both dense np.ndarray's and sparse scipy.csr arrays for the matrix, and additional .['obs'], .['obsm'] and .['var'], [.varm] fields for storing information about the observations (cells) and variables (genes). Data is stored as an H5 file, allowing for both in-memory and file-backed operations. For more information, see https://anndata.readthedocs.io/en/latest/"
   ]
  },
  {
   "cell_type": "code",
   "execution_count": 2,
   "id": "fd65a8c7",
   "metadata": {},
   "outputs": [],
   "source": [
    "# Data is load into memory. Add 'r' or 'r+' for reading and modifying filebacked annotation data\n",
    "tasic_adata = sc.read_h5ad('./data/tasic2016counts_csr.h5ad')"
   ]
  },
  {
   "cell_type": "markdown",
   "id": "9486e1c7",
   "metadata": {},
   "source": [
    "## General API patterns\n",
    "### Appending to AnnData objects\n",
    "Many functions in the transcriptomic package calculate features of the data. By default, they will return the values, e.g.\n",
    "``` \n",
    "means, variances = tc.get_gene_means_variances(adata)\n",
    "```\n",
    "However, some functions allow you to add the data to the AnnData object instead\n",
    "```\n",
    "tc.get_gene_means_variances(adata, annotate=True)\n",
    "print(adata.var['mean_exp'])\n",
    "print(adata.var['var_exp'])\n",
    "```\n",
    "### Modifying AnnData in Place or Making a Copy\n",
    "A function that modifies AnnData will by default modify it in place.\n",
    "You can make a copy by passing one of these two optional arguments\n",
    "to functions that modify AnnData.X\n",
    "\n",
    "#### In Place\n",
    "Simply call the function on the AnnData object, and it will be modified in place.\n",
    "```\n",
    "tc.normalize(tasic_adata)\n",
    "```\n",
    "All functions will return a reference to the modified AnnData object, copied or not.\n",
    "For example, the following is the same as the above:\n",
    "```\n",
    "normalized_data = tc.normalize(tasic_adata)\n",
    "```\n",
    "Since this is in-place, normalized_data and tasic_adata is the same object.\n",
    "You can verify this, as `normalized_adata is tasic_adata` returns True.\n",
    "\n",
    "#### In Memory\n",
    "To make a copy in memory, pass `inplace=False`\n",
    "For example:\n",
    "```\n",
    "normalized_adata = tc.normalize(tasic_adata, inplace=False)\n",
    "```\n",
    "In this case, normalized_adata is a copy, and `normalized_adata is tasic_adata` returns False\n",
    "#### Filebacked\n",
    "To make a file-backed copy, pass `copy_to=path/to/new/file.h5ad`\n",
    "For example:\n",
    "```\n",
    "normalized_adata = tc.normalize(tasic_adata, copy_to='path/to/new/file.h5ad')\n",
    "```\n"
   ]
  },
  {
   "cell_type": "markdown",
   "id": "196d5561",
   "metadata": {},
   "source": [
    "## Running the Pipeline"
   ]
  },
  {
   "cell_type": "markdown",
   "id": "f5a571e3",
   "metadata": {},
   "source": [
    "### Normalization\n",
    "(insert details here)"
   ]
  },
  {
   "cell_type": "code",
   "execution_count": 3,
   "id": "0103c993",
   "metadata": {},
   "outputs": [],
   "source": [
    "normalized_adata = tc.normalize(tasic_adata)"
   ]
  },
  {
   "cell_type": "markdown",
   "id": "00c88622",
   "metadata": {},
   "source": [
    "### Selecting Highly Variant Genes\n",
    "(insert details here)"
   ]
  },
  {
   "cell_type": "code",
   "execution_count": 4,
   "id": "e8458297",
   "metadata": {},
   "outputs": [
    {
     "data": {
      "text/plain": [
       "0610005C13Rik    False\n",
       "0610007C21Rik    False\n",
       "0610007L01Rik    False\n",
       "0610007N19Rik     True\n",
       "0610007P08Rik    False\n",
       "                 ...  \n",
       "mt_FR668231      False\n",
       "mt_FW313083      False\n",
       "mt_GU332589      False\n",
       "mt_X57779        False\n",
       "mt_X57780        False\n",
       "Name: highly_variable, Length: 24057, dtype: bool"
      ]
     },
     "execution_count": 4,
     "metadata": {},
     "output_type": "execute_result"
    }
   ],
   "source": [
    "means, variances, genes = tc.means_vars_genes(adata=normalized_adata, chunk_size=300)\n",
    "normalized_genefiltered_adata = normalized_adata[:, genes]\n",
    "tc.highly_variable_genes(adata=normalized_adata, means=means, variances=variances, max_genes=3000)\n",
    "normalized_adata.var['highly_variable']"
   ]
  },
  {
   "cell_type": "markdown",
   "id": "93e4f10e",
   "metadata": {},
   "source": [
    "### PCA analysis\n",
    "The `tc.pca()` function uses scipy's pca solver or SKlearn under the hood"
   ]
  },
  {
   "cell_type": "code",
   "execution_count": null,
   "id": "5638aa37",
   "metadata": {},
   "outputs": [],
   "source": [
    "(components, explained_variance_ratio, explained_variance) = \\\n",
    "    tc.pca(normalized_adata, cell_mask=1000, use_highly_variable=True)"
   ]
  },
  {
   "cell_type": "markdown",
   "id": "50cf0349",
   "metadata": {},
   "source": [
    "### Louvain Clustering"
   ]
  },
  {
   "cell_type": "markdown",
   "id": "81a1501d",
   "metadata": {},
   "source": [
    "### Future APIs\n",
    "filter known modes\n",
    "wcgna\n",
    "ward clustering\n",
    "merging\n",
    "hierarchical sorting"
   ]
  },
  {
   "cell_type": "markdown",
   "id": "2783107c",
   "metadata": {},
   "source": [
    "### Managing Memory\n",
    "setting limits\n",
    "writing files\n",
    "chunking"
   ]
  },
  {
   "cell_type": "markdown",
   "id": "da5c7651",
   "metadata": {},
   "source": [
    "## Accuracy Compared to R"
   ]
  },
  {
   "cell_type": "markdown",
   "id": "4f87046d",
   "metadata": {},
   "source": [
    "### Normalize\n",
    "(plots/stats)"
   ]
  },
  {
   "cell_type": "markdown",
   "id": "395a7c99",
   "metadata": {},
   "source": [
    "### HVG\n",
    "(plots/stats)"
   ]
  },
  {
   "cell_type": "markdown",
   "id": "d9984c56",
   "metadata": {},
   "source": [
    "### PCA"
   ]
  }
 ],
 "metadata": {
  "kernelspec": {
   "display_name": "Python 3",
   "language": "python",
   "name": "python3"
  },
  "language_info": {
   "codemirror_mode": {
    "name": "ipython",
    "version": 3
   },
   "file_extension": ".py",
   "mimetype": "text/x-python",
   "name": "python",
   "nbconvert_exporter": "python",
   "pygments_lexer": "ipython3",
   "version": "3.8.5"
  }
 },
 "nbformat": 4,
 "nbformat_minor": 5
}
