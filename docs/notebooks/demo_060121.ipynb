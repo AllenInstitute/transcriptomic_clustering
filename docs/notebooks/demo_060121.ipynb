{
 "cells": [
  {
   "cell_type": "markdown",
   "id": "joined-ending",
   "metadata": {},
   "source": [
    "# Transcriptomic Clustering"
   ]
  },
  {
   "cell_type": "code",
   "execution_count": 1,
   "id": "837bb108",
   "metadata": {},
   "outputs": [],
   "source": [
    "%load_ext autoreload\n",
    "%autoreload 2\n",
    "\n",
    "import scanpy as sc\n",
    "import transcriptomic_clustering as tc "
   ]
  },
  {
   "cell_type": "markdown",
   "id": "stretch-revision",
   "metadata": {},
   "source": [
    "## Loading data"
   ]
  },
  {
   "cell_type": "code",
   "execution_count": 2,
   "id": "decimal-disaster",
   "metadata": {},
   "outputs": [
    {
     "name": "stdout",
     "output_type": "stream",
     "text": [
      "AnnData object with n_obs × n_vars = 1809 × 24057 backed at 'data/tasic2016counts_sparse.h5ad'\n"
     ]
    }
   ],
   "source": [
    "tasic_adata = sc.read_h5ad('./data/tasic2016counts_sparse.h5ad',backed='r')\n",
    "print(tasic_adata)\n"
   ]
  },
  {
   "cell_type": "markdown",
   "id": "consolidated-doctor",
   "metadata": {},
   "source": [
    "## Normalize"
   ]
  },
  {
   "cell_type": "code",
   "execution_count": 3,
   "id": "yellow-earthquake",
   "metadata": {},
   "outputs": [
    {
     "name": "stderr",
     "output_type": "stream",
     "text": [
      "processing: 100%|██████████| 1/1 [00:00<00:00,  1.31it/s]"
     ]
    },
    {
     "name": "stdout",
     "output_type": "stream",
     "text": [
      "AnnData object with n_obs × n_vars = 1809 × 24057 backed at 'data/normalized5.h5ad'\n"
     ]
    },
    {
     "name": "stderr",
     "output_type": "stream",
     "text": [
      "\n"
     ]
    }
   ],
   "source": [
    "normalized_adata = tc.normalize(tasic_adata,copy_to='./data/normalized5.h5ad')\n",
    "print(normalized_adata)\n"
   ]
  },
  {
   "cell_type": "markdown",
   "id": "signal-composition",
   "metadata": {},
   "source": [
    "## Highly Variant Genes"
   ]
  },
  {
   "cell_type": "code",
   "execution_count": 4,
   "id": "1fde50fb",
   "metadata": {},
   "outputs": [
    {
     "name": "stdout",
     "output_type": "stream",
     "text": [
      "AnnData object with n_obs × n_vars = 1809 × 24057 backed at 'data/normalized5.h5ad'\n",
      "    var: 'highly_variable'\n",
      "    uns: 'hvg'\n"
     ]
    }
   ],
   "source": [
    "means, variances, gene_mask = tc.get_means_vars_genes(adata=normalized_adata)\n",
    "tc.highly_variable_genes(adata=normalized_adata, \n",
    "                         means=means, variances=variances, \n",
    "                         gene_mask=gene_mask, max_genes=3000)\n",
    "print(normalized_adata)"
   ]
  },
  {
   "cell_type": "markdown",
   "id": "productive-reference",
   "metadata": {},
   "source": [
    "## PCA"
   ]
  },
  {
   "cell_type": "code",
   "execution_count": 5,
   "id": "caroline-indonesia",
   "metadata": {},
   "outputs": [
    {
     "name": "stdout",
     "output_type": "stream",
     "text": [
      "(3000, 25)\n"
     ]
    }
   ],
   "source": [
    "(components, explained_variance_ratio, explained_variance, means) = \\\n",
    "    tc.pca(normalized_adata, n_comps=25, cell_select=1000, use_highly_variable=True, svd_solver='arpack')\n",
    "print(components.shape)"
   ]
  },
  {
   "cell_type": "markdown",
   "id": "938bc1d2",
   "metadata": {},
   "source": [
    "## Filter Known Modes"
   ]
  },
  {
   "cell_type": "code",
   "execution_count": 6,
   "id": "31da1968",
   "metadata": {},
   "outputs": [
    {
     "name": "stdout",
     "output_type": "stream",
     "text": [
      "(3000, 24)\n"
     ]
    }
   ],
   "source": [
    "known_modes = components[[24]] # select last component as a known mode as an example\n",
    "components = tc.filter_known_modes(components, known_modes)\n",
    "print(components.shape)"
   ]
  },
  {
   "cell_type": "markdown",
   "id": "71495ae3",
   "metadata": {},
   "source": [
    "## Projection"
   ]
  },
  {
   "cell_type": "code",
   "execution_count": 7,
   "id": "6d217292",
   "metadata": {},
   "outputs": [
    {
     "name": "stdout",
     "output_type": "stream",
     "text": [
      "AnnData object with n_obs × n_vars = 1809 × 24\n"
     ]
    },
    {
     "name": "stderr",
     "output_type": "stream",
     "text": [
      "/home/sergeyg/repos/anndata/anndata/_core/anndata.py:120: ImplicitModificationWarning: Transforming to str index.\n",
      "  warnings.warn(\"Transforming to str index.\", ImplicitModificationWarning)\n"
     ]
    }
   ],
   "source": [
    "projected_adata = tc.project(normalized_adata, components, means)\n",
    "print(projected_adata)"
   ]
  },
  {
   "cell_type": "markdown",
   "id": "33d63ba0",
   "metadata": {},
   "source": [
    "## Louvain Clustering"
   ]
  },
  {
   "cell_type": "code",
   "execution_count": 11,
   "id": "7d5370cd",
   "metadata": {},
   "outputs": [
    {
     "name": "stderr",
     "output_type": "stream",
     "text": [
      "100%|██████████| 1809/1809 [00:00<00:00, 65767.20it/s]\n",
      "100%|██████████| 1809/1809 [00:00<00:00, 45474.95it/s]\n"
     ]
    },
    {
     "data": {
      "text/plain": [
       "{0: 97,\n",
       " 5: 251,\n",
       " 3: 122,\n",
       " 4: 122,\n",
       " 6: 96,\n",
       " 9: 131,\n",
       " 10: 27,\n",
       " 7: 65,\n",
       " 11: 44,\n",
       " 14: 77,\n",
       " 15: 98,\n",
       " 16: 41,\n",
       " 22: 78,\n",
       " 18: 83,\n",
       " 19: 30,\n",
       " 20: 39,\n",
       " 21: 53,\n",
       " 12: 90,\n",
       " 17: 71,\n",
       " 23: 23,\n",
       " 25: 14,\n",
       " 8: 39,\n",
       " 24: 16,\n",
       " 1: 14,\n",
       " 2: 11,\n",
       " 13: 77}"
      ]
     },
     "execution_count": 11,
     "metadata": {},
     "output_type": "execute_result"
    }
   ],
   "source": [
    "cluster_by_obs, obs_by_cluster, graph, qc = tc.cluster_louvain(projected_adata, 10, n_jobs=8,random_seed=12341)\n",
    "\n",
    "cluster_sizes_before_merging = {k: len(v) for k, v in obs_by_cluster.items()}\n",
    "cluster_sizes_before_merging"
   ]
  },
  {
   "cell_type": "markdown",
   "id": "0d929b8f",
   "metadata": {},
   "source": [
    "## Merging"
   ]
  },
  {
   "cell_type": "code",
   "execution_count": null,
   "id": "reasonable-check",
   "metadata": {},
   "outputs": [
    {
     "name": "stderr",
     "output_type": "stream",
     "text": [
      "2021-06-29 13:02:40,153 root         INFO     Merging small cluster 25 into 12 -- similarity: 0.8529141323211678\n",
      "2021-06-29 13:02:40,160 root         INFO     Merging small cluster 2 into 13 -- similarity: 0.7654834738390284\n",
      "2021-06-29 13:02:40,166 root         INFO     Merging small cluster 1 into 9 -- similarity: 0.703634387499741\n",
      "/home/sergeyg/repos/transcriptomic_clustering/transcriptomic_clustering/de_ebayes.py:111: UserWarning: offsetting zero variances from zero\n",
      "  warnings.warn(f'offsetting zero variances from zero')\n",
      "2021-06-29 13:03:30,022 root         INFO     Merging cluster 18 into 6 -- de score: 174.2890431550827\n",
      "/home/sergeyg/repos/transcriptomic_clustering/transcriptomic_clustering/de_ebayes.py:111: UserWarning: offsetting zero variances from zero\n",
      "  warnings.warn(f'offsetting zero variances from zero')\n"
     ]
    }
   ],
   "source": [
    "thresholds = {\n",
    "    'q1_thresh': 0.5,\n",
    "    'q2_thresh': None,\n",
    "    'cluster_size_thresh': 15,\n",
    "    'qdiff_thresh': 0.7,\n",
    "    'padj_thresh': 0.05,\n",
    "    'lfc_thresh': 1.0,\n",
    "    'score_thresh': 200,\n",
    "    'low_thresh': 1\n",
    "}\n",
    "\n",
    "\n",
    "cluster_assignments_after_merging = tc.merge_clusters(\n",
    "    adata_norm=normalized_adata,\n",
    "    adata_reduced=projected_adata,\n",
    "    cluster_assignments=obs_by_cluster,\n",
    "    cluster_by_obs=cluster_by_obs,\n",
    "    thresholds=thresholds,\n",
    "    de_method='ebayes'\n",
    ")"
   ]
  },
  {
   "cell_type": "markdown",
   "id": "31e28b7a",
   "metadata": {},
   "source": [
    "## Hierarchical Sorting"
   ]
  },
  {
   "cell_type": "code",
   "execution_count": 45,
   "id": "3e0f7430",
   "metadata": {},
   "outputs": [],
   "source": [
    "import numpy as np\n",
    "cluster_by_obs_after_merging = np.zeros(len(cluster_by_obs), dtype=int)\n",
    "for cluster, obs in cluster_assignments_after_merging.items():\n",
    "    cluster_by_obs_after_merging[obs] = cluster\n",
    "cluster_means, _, _ = tc.get_cluster_means(projected_adata, cluster_assignments_after_merging, cluster_by_obs_after_merging)\n",
    "linkage, labels = tc.hclust(cluster_means)"
   ]
  },
  {
   "cell_type": "markdown",
   "id": "quality-impossible",
   "metadata": {},
   "source": [
    "## Display clustering dendrogram"
   ]
  },
  {
   "cell_type": "code",
   "execution_count": 46,
   "id": "1d96e48b",
   "metadata": {},
   "outputs": [
    {
     "data": {
      "image/png": "[encoded data removed]",
      "text/plain": [
       "<Figure size 432x288 with 1 Axes>"
      ]
     },
     "metadata": {
      "needs_background": "light"
     },
     "output_type": "display_data"
    }
   ],
   "source": [
    "from scipy.cluster.hierarchy import dendrogram\n",
    "from matplotlib import pyplot as plt\n",
    "fig = plt.figure()\n",
    "dendrogram(linkage, labels=labels)\n",
    "plt.show()"
   ]
  },
  {
   "cell_type": "code",
   "execution_count": null,
   "id": "round-donor",
   "metadata": {},
   "outputs": [],
   "source": []
  }
 ],
 "metadata": {
  "kernelspec": {
   "display_name": "Python 3",
   "language": "python",
   "name": "python3"
  },
  "language_info": {
   "codemirror_mode": {
    "name": "ipython",
    "version": 3
   },
   "file_extension": ".py",
   "mimetype": "text/x-python",
   "name": "python",
   "nbconvert_exporter": "python",
   "pygments_lexer": "ipython3",
   "version": "3.7.9"
  }
 },
 "nbformat": 4,
 "nbformat_minor": 5
}
