{
 "cells": [
  {
   "cell_type": "code",
   "execution_count": null,
   "id": "837bb108",
   "metadata": {},
   "outputs": [],
   "source": [
    "import scanpy as sc\n",
    "import transcriptomic_clustering as tc "
   ]
  },
  {
   "cell_type": "code",
   "execution_count": null,
   "id": "decimal-disaster",
   "metadata": {},
   "outputs": [],
   "source": [
    "tasic_adata = sc.read_h5ad('./data/tasic2016counts_sparse.h5ad')\n",
    "\n",
    "# Normalize\n",
    "normalized_adata = tc.normalize(tasic_adata)\n",
    "print(normalized_adata)\n"
   ]
  },
  {
   "cell_type": "code",
   "execution_count": null,
   "id": "1fde50fb",
   "metadata": {},
   "outputs": [],
   "source": [
    "tasic_adata = sc.read_h5ad('./data/tasic2016counts_sparse.h5ad')\n",
    "\n",
    "# Normalize\n",
    "normalized_adata = tc.normalize(tasic_adata)\n",
    "\n",
    "# Highly Variant Genes\n",
    "means, variances, gene_mask = tc.get_means_vars_genes(adata=normalized_adata)\n",
    "tc.highly_variable_genes(adata=normalized_adata, \n",
    "                         means=means, variances=variances, \n",
    "                         gene_mask=gene_mask, max_genes=3000)\n",
    "\n",
    "# PCA\n",
    "(components, explained_variance_ratio, explained_variance, means) = \\\n",
    "    tc.pca(normalized_adata, n_comps=25, cell_select=1000, use_highly_variable=True, svd_solver='arpack')\n",
    "print(components)"
   ]
  },
  {
   "cell_type": "markdown",
   "id": "938bc1d2",
   "metadata": {},
   "source": [
    "## Filter Known Modes"
   ]
  },
  {
   "cell_type": "code",
   "execution_count": null,
   "id": "31da1968",
   "metadata": {},
   "outputs": [],
   "source": [
    "known_modes = components[[24]] # select last component as a known mode as an example\n",
    "components = tc.filter_known_modes(components, known_modes)\n",
    "print(components.shape)"
   ]
  },
  {
   "cell_type": "markdown",
   "id": "71495ae3",
   "metadata": {},
   "source": [
    "## Projection"
   ]
  },
  {
   "cell_type": "code",
   "execution_count": null,
   "id": "6d217292",
   "metadata": {},
   "outputs": [],
   "source": [
    "projected_adata = tc.project(normalized_adata, components, means)\n",
    "print(projected_adata)"
   ]
  },
  {
   "cell_type": "markdown",
   "id": "33d63ba0",
   "metadata": {},
   "source": [
    "## Louvain Clustering"
   ]
  },
  {
   "cell_type": "code",
   "execution_count": null,
   "id": "7d5370cd",
   "metadata": {},
   "outputs": [],
   "source": [
    "cluster_by_obs, obs_by_cluster, graph, qc = tc.cluster_louvain(projected_adata, 30, n_jobs=8)"
   ]
  },
  {
   "cell_type": "markdown",
   "id": "0d929b8f",
   "metadata": {},
   "source": [
    "## Merging"
   ]
  },
  {
   "cell_type": "code",
   "execution_count": null,
   "id": "reasonable-check",
   "metadata": {},
   "outputs": [],
   "source": [
    "thresholds = {\n",
    "    'q1_thresh': 0.5,\n",
    "    'q2_thresh': None,\n",
    "    'cluster_size_thresh': 6,\n",
    "    'qdiff_thresh': 0.7,\n",
    "    'padj_thresh': 0.05,\n",
    "    'lfc_thresh': 1.0,\n",
    "    'score_thresh': 40,\n",
    "    'low_thresh': 1\n",
    "}\n",
    "\n",
    "cluster_assignments_after_merging = tc.merge_clusters(\n",
    "    adata_norm=normalized_adata,\n",
    "    adata_reduced=projected_adata,\n",
    "    cluster_assignments=obs_by_cluster,\n",
    "    cluster_by_obs=cluster_by_obs,\n",
    "    thresholds=thresholds,\n",
    "    de_method='ebayes'\n",
    ")"
   ]
  },
  {
   "cell_type": "markdown",
   "id": "31e28b7a",
   "metadata": {},
   "source": [
    "## Hierarchical Sorting"
   ]
  },
  {
   "cell_type": "code",
   "execution_count": null,
   "id": "3e0f7430",
   "metadata": {},
   "outputs": [],
   "source": [
    "import numpy as np\n",
    "cluster_by_obs_after_merging = np.zeros(len(cluster_by_obs), dtype=int)\n",
    "for cluster, obs in cluster_assignments_after_merging.items():\n",
    "    cluster_by_obs_after_merging[obs] = cluster\n",
    "cluster_means, _, _ = tc.get_cluster_means(projected_adata, cluster_assignments_after_merging, cluster_by_obs_after_merging)\n",
    "linkage, labels = tc.hclust(cluster_means)"
   ]
  },
  {
   "cell_type": "code",
   "execution_count": null,
   "id": "1d96e48b",
   "metadata": {},
   "outputs": [],
   "source": [
    "from scipy.cluster.hierarchy import dendrogram\n",
    "from matplotlib import pyplot as plt\n",
    "fig = plt.figure()\n",
    "dendrogram(linkage, labels=labels)\n",
    "plt.show()"
   ]
  }
 ],
 "metadata": {
  "kernelspec": {
   "display_name": "Python 3",
   "language": "python",
   "name": "python3"
  },
  "language_info": {
   "codemirror_mode": {
    "name": "ipython",
    "version": 3
   },
   "file_extension": ".py",
   "mimetype": "text/x-python",
   "name": "python",
   "nbconvert_exporter": "python",
   "pygments_lexer": "ipython3",
   "version": "3.7.9"
  }
 },
 "nbformat": 4,
 "nbformat_minor": 5
}
