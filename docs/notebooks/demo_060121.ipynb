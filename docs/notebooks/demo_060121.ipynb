{
 "cells": [
  {
   "cell_type": "code",
   "execution_count": 1,
   "id": "837bb108",
   "metadata": {},
   "outputs": [],
   "source": [
    "import scanpy as sc\n",
    "import transcriptomic_clustering as tc"
   ]
  },
  {
   "cell_type": "code",
   "execution_count": 2,
   "id": "1fde50fb",
   "metadata": {},
   "outputs": [
    {
     "name": "stdout",
     "output_type": "stream",
     "text": [
      "                     0         1         2         3         4         5   \\\n",
      "0610007N19Rik  0.001401  0.005660  0.000877 -0.001888 -0.005174  0.006956   \n",
      "0610039K10Rik  0.000053  0.002040  0.000468  0.007206 -0.001656 -0.000511   \n",
      "0610040J01Rik -0.000707  0.004878  0.000539 -0.000959 -0.002590  0.000229   \n",
      "1110006O24Rik  0.000185 -0.000192  0.000693  0.000051  0.000070  0.000231   \n",
      "1110015O18Rik  0.000391  0.003463  0.002330 -0.002634  0.000273 -0.000618   \n",
      "...                 ...       ...       ...       ...       ...       ...   \n",
      "mt_AK159262    0.011908  0.011151 -0.041511 -0.014403  0.007699  0.022651   \n",
      "mt_AK166684    0.001885  0.005167 -0.003129  0.000022  0.000177  0.003803   \n",
      "mt_BC006023   -0.007537  0.005603  0.010082  0.001686 -0.005659 -0.015931   \n",
      "mt_BC104337    0.001058  0.004469 -0.007042 -0.000270 -0.003088  0.002556   \n",
      "mt_GU332589    0.013144  0.014298 -0.014208  0.000908 -0.008194  0.013193   \n",
      "\n",
      "                     6         7         8         9   ...        15  \\\n",
      "0610007N19Rik  0.003926  0.007795  0.004547 -0.003630  ...  0.005363   \n",
      "0610039K10Rik -0.004345 -0.004690  0.002276 -0.001678  ... -0.001137   \n",
      "0610040J01Rik -0.003322 -0.005122  0.004062  0.011106  ... -0.003380   \n",
      "1110006O24Rik  0.000644 -0.000433 -0.000096 -0.000880  ... -0.000862   \n",
      "1110015O18Rik  0.001092 -0.003520  0.004327  0.019952  ...  0.002240   \n",
      "...                 ...       ...       ...       ...  ...       ...   \n",
      "mt_AK159262   -0.003415  0.015572  0.004559 -0.031812  ... -0.014548   \n",
      "mt_AK166684    0.001645  0.000732  0.007297 -0.011019  ...  0.002566   \n",
      "mt_BC006023   -0.011581 -0.008111  0.011906 -0.008634  ...  0.024090   \n",
      "mt_BC104337    0.002617  0.000972  0.008846 -0.009902  ...  0.003742   \n",
      "mt_GU332589   -0.009826  0.020024  0.004634 -0.030263  ...  0.015187   \n",
      "\n",
      "                     16        17        18        19        20        21  \\\n",
      "0610007N19Rik  0.002776  0.000678 -0.002816  0.001548 -0.006760 -0.002814   \n",
      "0610039K10Rik  0.000333 -0.000542 -0.001485  0.002607 -0.001273  0.000273   \n",
      "0610040J01Rik -0.007475  0.006453 -0.002599  0.005349 -0.002469 -0.009693   \n",
      "1110006O24Rik -0.001113  0.000762  0.000123  0.000810  0.001847 -0.002418   \n",
      "1110015O18Rik  0.002289 -0.001327 -0.004805 -0.000326 -0.001027 -0.007646   \n",
      "...                 ...       ...       ...       ...       ...       ...   \n",
      "mt_AK159262    0.021602 -0.025498 -0.007809  0.021793 -0.026038  0.011233   \n",
      "mt_AK166684   -0.004673  0.009627 -0.014860  0.010686  0.007174 -0.018013   \n",
      "mt_BC006023   -0.033173  0.005478 -0.018152 -0.001300  0.019945  0.029273   \n",
      "mt_BC104337    0.002569  0.006259 -0.005401  0.006964  0.010303 -0.011292   \n",
      "mt_GU332589    0.009352  0.002612 -0.019833  0.030417  0.014888 -0.014974   \n",
      "\n",
      "                     22        23        24  \n",
      "0610007N19Rik  0.010419  0.001720  0.018232  \n",
      "0610039K10Rik -0.000768  0.001608 -0.001526  \n",
      "0610040J01Rik -0.008771 -0.012875  0.005554  \n",
      "1110006O24Rik  0.001475  0.002493  0.002182  \n",
      "1110015O18Rik -0.008877  0.003377  0.002223  \n",
      "...                 ...       ...       ...  \n",
      "mt_AK159262    0.004175  0.010249 -0.011336  \n",
      "mt_AK166684   -0.004288  0.009257  0.003595  \n",
      "mt_BC006023   -0.015201 -0.002210 -0.000345  \n",
      "mt_BC104337   -0.000857 -0.000095 -0.001462  \n",
      "mt_GU332589   -0.009168  0.009915  0.006081  \n",
      "\n",
      "[3000 rows x 25 columns]\n"
     ]
    }
   ],
   "source": [
    "tasic_adata = sc.read_h5ad('./data/tasic2016counts_sparse.h5ad')\n",
    "\n",
    "# Normalize\n",
    "normalized_adata = tc.normalize(tasic_adata)\n",
    "\n",
    "# Highly Variant Genes\n",
    "means, variances, gene_mask = tc.get_means_vars_genes(adata=normalized_adata)\n",
    "tc.highly_variable_genes(adata=normalized_adata, \n",
    "                         means=means, variances=variances, \n",
    "                         gene_mask=gene_mask, max_genes=3000)\n",
    "\n",
    "# PCA\n",
    "(components, explained_variance_ratio, explained_variance, means) = \\\n",
    "    tc.pca(normalized_adata, n_comps=25, cell_select=1000, use_highly_variable=True, svd_solver='arpack')\n",
    "print(components)"
   ]
  },
  {
   "cell_type": "markdown",
   "id": "938bc1d2",
   "metadata": {},
   "source": [
    "## Filter Known Modes"
   ]
  },
  {
   "cell_type": "code",
   "execution_count": 3,
   "id": "510b00c8",
   "metadata": {},
   "outputs": [
    {
     "name": "stdout",
     "output_type": "stream",
     "text": [
      "                     24\n",
      "0610007N19Rik  0.018232\n",
      "0610039K10Rik -0.001526\n",
      "0610040J01Rik  0.005554\n",
      "1110006O24Rik  0.002182\n",
      "1110015O18Rik  0.002223\n",
      "...                 ...\n",
      "mt_AK159262   -0.011336\n",
      "mt_AK166684    0.003595\n",
      "mt_BC006023   -0.000345\n",
      "mt_BC104337   -0.001462\n",
      "mt_GU332589    0.006081\n",
      "\n",
      "[3000 rows x 1 columns]\n"
     ]
    }
   ],
   "source": [
    "known_modes = components[[24]] # select last component as a known mode as an example\n",
    "print(known_modes)"
   ]
  },
  {
   "cell_type": "code",
   "execution_count": 4,
   "id": "31da1968",
   "metadata": {},
   "outputs": [
    {
     "name": "stdout",
     "output_type": "stream",
     "text": [
      "(3000, 24)\n"
     ]
    }
   ],
   "source": [
    "components = tc.filter_known_modes(components, known_modes)\n",
    "print(components.shape)"
   ]
  },
  {
   "cell_type": "markdown",
   "id": "71495ae3",
   "metadata": {},
   "source": [
    "## Projection"
   ]
  },
  {
   "cell_type": "code",
   "execution_count": 5,
   "id": "6d217292",
   "metadata": {},
   "outputs": [
    {
     "name": "stderr",
     "output_type": "stream",
     "text": [
      "/opt/anaconda3/envs/trans_clust/lib/python3.8/site-packages/anndata/_core/anndata.py:120: ImplicitModificationWarning: Transforming to str index.\n",
      "  warnings.warn(\"Transforming to str index.\", ImplicitModificationWarning)\n"
     ]
    },
    {
     "data": {
      "text/plain": [
       "AnnData object with n_obs × n_vars = 1809 × 24"
      ]
     },
     "execution_count": 5,
     "metadata": {},
     "output_type": "execute_result"
    }
   ],
   "source": [
    "projected_adata = tc.project(normalized_adata, components, means)\n",
    "projected_adata"
   ]
  },
  {
   "cell_type": "markdown",
   "id": "33d63ba0",
   "metadata": {},
   "source": [
    "## Louvain Clustering"
   ]
  },
  {
   "cell_type": "code",
   "execution_count": 6,
   "id": "7d5370cd",
   "metadata": {},
   "outputs": [
    {
     "name": "stdout",
     "output_type": "stream",
     "text": [
      "Finding 30 nearest neighbors using minkowski metric and 'auto' algorithm\n",
      "Neighbors computed in 0.11678123474121094 seconds\n",
      "Jaccard graph constructed in 1.8043971061706543 seconds\n",
      "Wrote graph to binary file in 0.028048038482666016 seconds\n",
      "Running Louvain modularity optimization\n",
      "After 1 runs, maximum modularity is Q = 0.919924\n",
      "Louvain completed 21 runs in 0.5480029582977295 seconds\n",
      "Sorting communities by size, please wait ...\n",
      "PhenoGraph completed in 3.3849050998687744 seconds\n"
     ]
    }
   ],
   "source": [
    "cluster_by_obs, obs_by_cluster, graph, qc = tc.cluster_louvain(projected_adata, 30)"
   ]
  },
  {
   "cell_type": "code",
   "execution_count": 7,
   "id": "33b229c9",
   "metadata": {},
   "outputs": [],
   "source": [
    "# REMOVE\n",
    "import numpy as np\n",
    "def get_cluster_means(adata, cluster_assignments):\n",
    "    cluster_means = {}\n",
    "\n",
    "    for label, idx in cluster_assignments.items():\n",
    "        adata_view = adata[idx, :]\n",
    "        X = adata_view.X\n",
    "        cluster_means[label] = np.asarray(np.mean(X, axis=0)).ravel()\n",
    "\n",
    "    return cluster_means"
   ]
  },
  {
   "cell_type": "markdown",
   "id": "0d929b8f",
   "metadata": {},
   "source": [
    "## Merging"
   ]
  },
  {
   "cell_type": "code",
   "execution_count": 8,
   "id": "b038ce9c",
   "metadata": {},
   "outputs": [],
   "source": [
    "#Coming soon"
   ]
  },
  {
   "cell_type": "markdown",
   "id": "31e28b7a",
   "metadata": {},
   "source": [
    "## Hierarchical Sorting"
   ]
  },
  {
   "cell_type": "code",
   "execution_count": 9,
   "id": "3e0f7430",
   "metadata": {},
   "outputs": [],
   "source": [
    "cluster_means = get_cluster_means(projected_adata, obs_by_cluster)\n",
    "linkage, labels = tc.hclust(cluster_means)"
   ]
  },
  {
   "cell_type": "code",
   "execution_count": 10,
   "id": "9b404516",
   "metadata": {},
   "outputs": [],
   "source": [
    "from scipy.cluster.hierarchy import dendrogram\n",
    "from matplotlib import pyplot as plt\n",
    "%matplotlib inline"
   ]
  },
  {
   "cell_type": "code",
   "execution_count": 11,
   "id": "1d96e48b",
   "metadata": {},
   "outputs": [
    {
     "data": {
      "image/png": "[encoded data removed]",
      "text/plain": [
       "<Figure size 432x288 with 1 Axes>"
      ]
     },
     "metadata": {
      "needs_background": "light"
     },
     "output_type": "display_data"
    }
   ],
   "source": [
    "fig = plt.figure()\n",
    "dendrogram(linkage, labels=labels)\n",
    "plt.show()"
   ]
  },
  {
   "cell_type": "code",
   "execution_count": null,
   "id": "9c823915",
   "metadata": {},
   "outputs": [],
   "source": []
  }
 ],
 "metadata": {
  "kernelspec": {
   "display_name": "Python 3",
   "language": "python",
   "name": "python3"
  },
  "language_info": {
   "codemirror_mode": {
    "name": "ipython",
    "version": 3
   },
   "file_extension": ".py",
   "mimetype": "text/x-python",
   "name": "python",
   "nbconvert_exporter": "python",
   "pygments_lexer": "ipython3",
   "version": "3.8.8"
  }
 },
 "nbformat": 4,
 "nbformat_minor": 5
}
