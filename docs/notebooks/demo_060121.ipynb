{
 "cells": [
  {
   "cell_type": "markdown",
   "id": "joined-ending",
   "metadata": {},
   "source": [
    "# Transcriptomic Clustering"
   ]
  },
  {
   "cell_type": "code",
   "execution_count": 1,
   "id": "837bb108",
   "metadata": {},
   "outputs": [],
   "source": [
    "%load_ext autoreload\n",
    "%autoreload 2\n",
    "\n",
    "import scanpy as sc\n",
    "import transcriptomic_clustering as tc "
   ]
  },
  {
   "cell_type": "markdown",
   "id": "stretch-revision",
   "metadata": {},
   "source": [
    "## Loading data\n",
    "- Operate on Annotated Data from scanpy/anndata. \n",
    "- Supports both dense sparse matrices\n",
    "- Stored as an HDF5 file\n",
    "- Allowing for both in-memory and file-backed operation"
   ]
  },
  {
   "cell_type": "code",
   "execution_count": 2,
   "id": "decimal-disaster",
   "metadata": {},
   "outputs": [
    {
     "name": "stdout",
     "output_type": "stream",
     "text": [
      "AnnData object with n_obs × n_vars = 1809 × 24057 backed at 'data/tasic2016counts_sparse.h5ad'\n",
      "<HDF5 sparse dataset: format 'csr', shape (1809, 24057), type '<f4'>\n"
     ]
    }
   ],
   "source": [
    "tasic_adata = sc.read_h5ad('./data/tasic2016counts_sparse.h5ad', backed='r')\n",
    "print(tasic_adata)\n",
    "print(tasic_adata.X)"
   ]
  },
  {
   "cell_type": "markdown",
   "id": "consolidated-doctor",
   "metadata": {},
   "source": [
    "## Preprocessing: \n",
    "### Normalize data\n",
    "- Normalize gene expression counts for each cell to sum to 1 million\n",
    "- File-backed data supports chunking, but is turned off by default"
   ]
  },
  {
   "cell_type": "code",
   "execution_count": 4,
   "id": "yellow-earthquake",
   "metadata": {},
   "outputs": [
    {
     "name": "stderr",
     "output_type": "stream",
     "text": [
      "processing: 100%|██████████| 1/1 [00:00<00:00,  1.10it/s]"
     ]
    },
    {
     "name": "stdout",
     "output_type": "stream",
     "text": [
      "AnnData object with n_obs × n_vars = 1809 × 24057 backed at 'data/normalized4.h5ad'\n"
     ]
    },
    {
     "name": "stderr",
     "output_type": "stream",
     "text": [
      "\n"
     ]
    }
   ],
   "source": [
    "normalized_adata = tc.normalize(tasic_adata,copy_to='./data/normalized4.h5ad')\n",
    "print(normalized_adata)\n"
   ]
  },
  {
   "cell_type": "markdown",
   "id": "false-deployment",
   "metadata": {},
   "source": [
    "### Normalize data (chunked)\n"
   ]
  },
  {
   "cell_type": "code",
   "execution_count": 5,
   "id": "legal-background",
   "metadata": {},
   "outputs": [
    {
     "data": {
      "text/plain": [
       "3.620655059814453"
      ]
     },
     "execution_count": 5,
     "metadata": {},
     "output_type": "execute_result"
    }
   ],
   "source": [
    "tc.memory.get_available_system_memory_GB()"
   ]
  },
  {
   "cell_type": "code",
   "execution_count": 6,
   "id": "framed-webcam",
   "metadata": {},
   "outputs": [
    {
     "name": "stdout",
     "output_type": "stream",
     "text": [
      "              total        used        free      shared  buff/cache   available\r\n",
      "Mem:           15Gi        10Gi       504Mi       1.3Gi       4.7Gi       3.6Gi\r\n",
      "Swap:         2.0Gi       1.5Gi       545Mi\r\n"
     ]
    }
   ],
   "source": [
    "!free -h"
   ]
  },
  {
   "cell_type": "code",
   "execution_count": 7,
   "id": "fifty-payday",
   "metadata": {},
   "outputs": [
    {
     "data": {
      "text/plain": [
       "0.04756774902343752"
      ]
     },
     "execution_count": 7,
     "metadata": {},
     "output_type": "execute_result"
    }
   ],
   "source": [
    "tc.memory.set_memory_limit(GB=0.4)\n",
    "tc.memory.get_available_memory_GB()\n"
   ]
  },
  {
   "cell_type": "code",
   "execution_count": 8,
   "id": "frozen-banner",
   "metadata": {},
   "outputs": [
    {
     "name": "stderr",
     "output_type": "stream",
     "text": [
      "processing: 100%|██████████| 6/6 [00:01<00:00,  5.23it/s]"
     ]
    },
    {
     "name": "stdout",
     "output_type": "stream",
     "text": [
      "AnnData object with n_obs × n_vars = 1809 × 24057 backed at 'data/normalized10.h5ad'\n"
     ]
    },
    {
     "name": "stderr",
     "output_type": "stream",
     "text": [
      "\n"
     ]
    }
   ],
   "source": [
    "tc.memory.allow_chunking = True\n",
    "normalized_adata = tc.normalize(tasic_adata,copy_to='./data/normalized10.h5ad')\n",
    "print(normalized_adata)\n"
   ]
  },
  {
   "cell_type": "code",
   "execution_count": 21,
   "id": "alpha-cooper",
   "metadata": {},
   "outputs": [
    {
     "name": "stdout",
     "output_type": "stream",
     "text": [
      "AnnData object with n_obs × n_vars = 999 × 24057 backed at 'data/normalized_subset.h5ad'\n",
      "    var: 'highly_variable'\n",
      "    uns: 'hvg'\n"
     ]
    }
   ],
   "source": [
    "# if wanting to work with a subset of data in backed mode (here choosing the first 1000 cells):\n",
    "normalized_adata = normalized_adata[:1000,:].copy(filename='./data/normalized_subset.h5ad')\n",
    "print(normalized_adata)"
   ]
  },
  {
   "cell_type": "markdown",
   "id": "signal-composition",
   "metadata": {},
   "source": [
    "## Dimensionality reduction:\n",
    "### 1. Find Highly Variant Genes\n",
    "- Find highly variable genes to reduce the dimensionality by including only the informative genes. \n",
    "- Only these genes will be used for the subsequent dimensionality reduction and clustering."
   ]
  },
  {
   "cell_type": "code",
   "execution_count": 18,
   "id": "1fde50fb",
   "metadata": {},
   "outputs": [
    {
     "name": "stdout",
     "output_type": "stream",
     "text": [
      "AnnData object with n_obs × n_vars = 999 × 24057 backed at 'data/normalized_subset.h5ad'\n",
      "    var: 'highly_variable'\n",
      "    uns: 'hvg'\n"
     ]
    }
   ],
   "source": [
    "means, variances, gene_mask = tc.get_means_vars_genes(adata=normalized_adata)\n",
    "tc.highly_variable_genes(adata=normalized_adata, \n",
    "                         means=means, variances=variances, \n",
    "                         gene_mask=gene_mask, max_genes=3000)\n",
    "print(normalized_adata)"
   ]
  },
  {
   "cell_type": "markdown",
   "id": "productive-reference",
   "metadata": {},
   "source": [
    "### 2. Find Principal Component Subspace"
   ]
  },
  {
   "cell_type": "code",
   "execution_count": 19,
   "id": "caroline-indonesia",
   "metadata": {},
   "outputs": [
    {
     "name": "stderr",
     "output_type": "stream",
     "text": [
      "2021-07-23 16:19:25,832 root         WARNING  Ignoring svd_solver, using IncrementalPCA\n"
     ]
    },
    {
     "name": "stdout",
     "output_type": "stream",
     "text": [
      "(3000, 25)\n"
     ]
    }
   ],
   "source": [
    "(components, explained_variance_ratio, explained_variance, means) = \\\n",
    "    tc.pca(normalized_adata, n_comps=25, cell_select=1000, use_highly_variable=True, svd_solver='arpack')\n",
    "print(components.shape)"
   ]
  },
  {
   "cell_type": "markdown",
   "id": "938bc1d2",
   "metadata": {},
   "source": [
    "### 3. Filter Known Modes (optional)\n",
    "- removes some technical/experimental artifacts (dimensions)\n"
   ]
  },
  {
   "cell_type": "code",
   "execution_count": 39,
   "id": "31da1968",
   "metadata": {},
   "outputs": [
    {
     "name": "stdout",
     "output_type": "stream",
     "text": [
      "(3000, 24)\n"
     ]
    }
   ],
   "source": [
    "known_artifacts = components[[24]] # select last component as a known mode as an example\n",
    "components = tc.filter_known_modes(components, known_artifacts)\n",
    "print(components.shape)"
   ]
  },
  {
   "cell_type": "markdown",
   "id": "71495ae3",
   "metadata": {},
   "source": [
    "### 4. Projecting data onto the principla subspace"
   ]
  },
  {
   "cell_type": "code",
   "execution_count": 40,
   "id": "6d217292",
   "metadata": {},
   "outputs": [
    {
     "name": "stdout",
     "output_type": "stream",
     "text": [
      "AnnData object with n_obs × n_vars = 1809 × 24\n"
     ]
    },
    {
     "name": "stderr",
     "output_type": "stream",
     "text": [
      "/home/sergeyg/repos/anndata/anndata/_core/anndata.py:120: ImplicitModificationWarning: Transforming to str index.\n",
      "  warnings.warn(\"Transforming to str index.\", ImplicitModificationWarning)\n"
     ]
    }
   ],
   "source": [
    "projected_adata = tc.project(normalized_adata, components, means)\n",
    "print(projected_adata)"
   ]
  },
  {
   "cell_type": "markdown",
   "id": "33d63ba0",
   "metadata": {},
   "source": [
    "## Clustering\n",
    "- Compute k nearest neighbour adjacency graph on each cell in the reduced space\n",
    "- Louvain clustering method that optimizes modularity of communities\n",
    "- Good performance\n",
    "- Reproducible results"
   ]
  },
  {
   "cell_type": "code",
   "execution_count": 48,
   "id": "7d5370cd",
   "metadata": {},
   "outputs": [
    {
     "name": "stderr",
     "output_type": "stream",
     "text": [
      "100%|██████████| 1809/1809 [00:00<00:00, 68799.61it/s]\n",
      "100%|██████████| 1809/1809 [00:00<00:00, 26255.13it/s]\n"
     ]
    },
    {
     "data": {
      "text/plain": [
       "{0: 114,\n",
       " 5: 256,\n",
       " 1: 105,\n",
       " 3: 122,\n",
       " 6: 102,\n",
       " 10: 28,\n",
       " 11: 45,\n",
       " 13: 77,\n",
       " 14: 105,\n",
       " 15: 41,\n",
       " 12: 77,\n",
       " 18: 75,\n",
       " 19: 132,\n",
       " 20: 30,\n",
       " 21: 39,\n",
       " 22: 38,\n",
       " 16: 96,\n",
       " 17: 72,\n",
       " 24: 24,\n",
       " 25: 13,\n",
       " 2: 39,\n",
       " 23: 64,\n",
       " 9: 13,\n",
       " 7: 12,\n",
       " 4: 77,\n",
       " 8: 13}"
      ]
     },
     "execution_count": 48,
     "metadata": {},
     "output_type": "execute_result"
    }
   ],
   "source": [
    "cluster_by_obs, obs_by_cluster, graph, qc = tc.cluster_louvain(projected_adata, k=10, n_jobs=8,random_seed=12341)\n",
    "\n",
    "cluster_sizes_before_merging = {k: len(v) for k, v in obs_by_cluster.items()}\n",
    "cluster_sizes_before_merging"
   ]
  },
  {
   "cell_type": "markdown",
   "id": "0d929b8f",
   "metadata": {},
   "source": [
    "## Merging similar clusters \n",
    "- merge very small clusters with most correlated cluster\n",
    "- merge cluster if differential expression score with neighbour clusters is below threshold"
   ]
  },
  {
   "cell_type": "code",
   "execution_count": 43,
   "id": "reasonable-check",
   "metadata": {},
   "outputs": [
    {
     "name": "stderr",
     "output_type": "stream",
     "text": [
      "2021-07-14 23:46:16,022 root         INFO     Merging small cluster 25 into 16 -- similarity: 0.8513873965850381\n",
      "2021-07-14 23:46:16,034 root         INFO     Merging small cluster 7 into 4 -- similarity: 0.8103240276364321\n",
      "2021-07-14 23:46:16,043 root         INFO     Merging small cluster 8 into 19 -- similarity: 0.724398432465724\n",
      "2021-07-14 23:46:16,054 root         INFO     Merging small cluster 9 into 11 -- similarity: 0.48573515300341036\n",
      "/home/sergeyg/repos/transcriptomic_clustering/transcriptomic_clustering/de_ebayes.py:111: UserWarning: offsetting zero variances from zero\n",
      "  warnings.warn(f'offsetting zero variances from zero')\n",
      "2021-07-14 23:47:00,935 root         INFO     Merging cluster 18 into 6 -- de score: 159.71203057121218\n",
      "/home/sergeyg/repos/transcriptomic_clustering/transcriptomic_clustering/de_ebayes.py:111: UserWarning: offsetting zero variances from zero\n",
      "  warnings.warn(f'offsetting zero variances from zero')\n"
     ]
    }
   ],
   "source": [
    "thresholds = {\n",
    "    'q1_thresh': 0.5,\n",
    "    'q2_thresh': None,\n",
    "    'cluster_size_thresh': 15,\n",
    "    'qdiff_thresh': 0.7,\n",
    "    'padj_thresh': 0.05,\n",
    "    'lfc_thresh': 1.0,\n",
    "    'score_thresh': 200,\n",
    "    'low_thresh': 1\n",
    "}\n",
    "\n",
    "\n",
    "cluster_assignments_after_merging = tc.merge_clusters(\n",
    "    adata_norm=normalized_adata,\n",
    "    adata_reduced=projected_adata,\n",
    "    cluster_assignments=obs_by_cluster,\n",
    "    cluster_by_obs=cluster_by_obs,\n",
    "    thresholds=thresholds,\n",
    "    de_method='ebayes'\n",
    ")"
   ]
  },
  {
   "cell_type": "markdown",
   "id": "31e28b7a",
   "metadata": {},
   "source": [
    "## Hierarchical Sorting"
   ]
  },
  {
   "cell_type": "code",
   "execution_count": 46,
   "id": "3e0f7430",
   "metadata": {},
   "outputs": [],
   "source": [
    "import numpy as np\n",
    "cluster_by_obs_after_merging = np.zeros(len(cluster_by_obs), dtype=int)\n",
    "for cluster, obs in cluster_assignments_after_merging.items():\n",
    "    cluster_by_obs_after_merging[obs] = cluster\n",
    "cluster_means, _, _ = tc.get_cluster_means(projected_adata, cluster_assignments_after_merging, cluster_by_obs_after_merging)\n",
    "linkage, labels = tc.hclust(cluster_means)"
   ]
  },
  {
   "cell_type": "markdown",
   "id": "quality-impossible",
   "metadata": {},
   "source": [
    "## Display clustering dendrogram"
   ]
  },
  {
   "cell_type": "code",
   "execution_count": 47,
   "id": "1d96e48b",
   "metadata": {},
   "outputs": [
    {
     "data": {
      "image/png": "[encoded data removed]",
      "text/plain": [
       "<Figure size 432x288 with 1 Axes>"
      ]
     },
     "metadata": {
      "needs_background": "light"
     },
     "output_type": "display_data"
    }
   ],
   "source": [
    "from scipy.cluster.hierarchy import dendrogram\n",
    "from matplotlib import pyplot as plt\n",
    "fig = plt.figure()\n",
    "dendrogram(linkage, labels=labels)\n",
    "plt.show()"
   ]
  },
  {
   "cell_type": "code",
   "execution_count": null,
   "id": "round-donor",
   "metadata": {},
   "outputs": [],
   "source": []
  }
 ],
 "metadata": {
  "kernelspec": {
   "display_name": "Python 3",
   "language": "python",
   "name": "python3"
  },
  "language_info": {
   "codemirror_mode": {
    "name": "ipython",
    "version": 3
   },
   "file_extension": ".py",
   "mimetype": "text/x-python",
   "name": "python",
   "nbconvert_exporter": "python",
   "pygments_lexer": "ipython3",
   "version": "3.7.9"
  }
 },
 "nbformat": 4,
 "nbformat_minor": 5
}
