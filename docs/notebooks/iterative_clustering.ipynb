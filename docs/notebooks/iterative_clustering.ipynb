{
 "cells": [
  {
   "cell_type": "code",
   "execution_count": null,
   "id": "b08ce8ac",
   "metadata": {},
   "outputs": [],
   "source": [
    "import tempfile\n",
    "import os\n",
    "import shutil\n",
    "import json\n",
    "\n",
    "import scanpy as sc\n",
    "import transcriptomic_clustering as tc\n",
    "from transcriptomic_clustering.iterative_clustering import build_cluster_dict, iter_clust, OnestepKwargs"
   ]
  },
  {
   "cell_type": "code",
   "execution_count": null,
   "id": "37109123",
   "metadata": {},
   "outputs": [],
   "source": [
    "# Setup input/output files\n",
    "output_file = os.path.expanduser('clusters.json')\n",
    "\n",
    "path_to_adata = '././notebooks/data/tasic2016counts_sparse.h5ad'\n",
    "adata = sc.read_h5ad(path_to_adata, backed='r')"
   ]
  },
  {
   "cell_type": "code",
   "execution_count": null,
   "id": "18ec0524",
   "metadata": {},
   "outputs": [],
   "source": [
    "# Set memory params\n",
    "tc.memory.set_memory_limit(percent_current_available=30)\n",
    "tc.memory.allow_chunking = True"
   ]
  },
  {
   "cell_type": "code",
   "execution_count": null,
   "id": "28fc9ca5",
   "metadata": {},
   "outputs": [],
   "source": [
    "# Assign kwargs. Any unassigned args will be set to their respective function defaults\n",
    "merge_clusters_kwargs = {\n",
    "    'thresholds': {\n",
    "        'q1_thresh': 0.5,\n",
    "        'q2_thresh': None,\n",
    "        'cluster_size_thresh': 15,\n",
    "        'qdiff_thresh': 0.7,\n",
    "        'padj_thresh': 0.05,\n",
    "        'lfc_thresh': 1.0,\n",
    "        'score_thresh': 200,\n",
    "        'low_thresh': 1\n",
    "    },\n",
    "    'de_method': 'de_ebayes'\n",
    "}\n",
    "onestep_kwargs = OnestepKwargs(merge_clusters_kwargs=merge_clusters_kwargs)"
   ]
  },
  {
   "cell_type": "code",
   "execution_count": null,
   "id": "e347b1cc",
   "metadata": {},
   "outputs": [],
   "source": [
    "# Remove old tmp_dir and make new one\n",
    "try:\n",
    "    shutil.rmtree(tmp_dir)\n",
    "except NameError as e:\n",
    "    pass # tmp_dir didn't exist\n",
    "tmp_dir = tempfile.mkdtemp()"
   ]
  },
  {
   "cell_type": "code",
   "execution_count": null,
   "id": "70e14ad1",
   "metadata": {},
   "outputs": [],
   "source": [
    "# normalize adata\n",
    "norm_adata_path = os.path.join(tmp_dir, 'normalized.h5ad')\n",
    "normalized_adata = tc.normalize(adata,copy_to=norm_adata_path)"
   ]
  },
  {
   "cell_type": "code",
   "execution_count": null,
   "id": "ef7d84fd",
   "metadata": {},
   "outputs": [],
   "source": [
    "# Run clustering\n",
    "clusters = iter_clust(\n",
    "    normalized_adata,\n",
    "    min_samples=4,\n",
    "    onestep_kwargs=onestep_kwargs,\n",
    "    random_seed=123,\n",
    "    tmp_dir=tmp_dir\n",
    ")\n",
    "cluster_dict = build_cluster_dict(clusters)"
   ]
  },
  {
   "cell_type": "code",
   "execution_count": null,
   "id": "e9226c7f",
   "metadata": {},
   "outputs": [],
   "source": [
    "with open(output_file, 'w') as f:\n",
    "    json.dump(f, cluster_dict)"
   ]
  },
  {
   "cell_type": "code",
   "execution_count": null,
   "id": "15fe1f63",
   "metadata": {},
   "outputs": [],
   "source": [
    "shutil.rmtree(tmp_dir)"
   ]
  },
  {
   "cell_type": "code",
   "execution_count": null,
   "id": "2a139703",
   "metadata": {},
   "outputs": [],
   "source": []
  }
 ],
 "metadata": {
  "kernelspec": {
   "display_name": "Python [conda env:tc] *",
   "language": "python",
   "name": "conda-env-tc-py"
  },
  "language_info": {
   "codemirror_mode": {
    "name": "ipython",
    "version": 3
   },
   "file_extension": ".py",
   "mimetype": "text/x-python",
   "name": "python",
   "nbconvert_exporter": "python",
   "pygments_lexer": "ipython3",
   "version": "3.8.8"
  }
 },
 "nbformat": 4,
 "nbformat_minor": 5
}
