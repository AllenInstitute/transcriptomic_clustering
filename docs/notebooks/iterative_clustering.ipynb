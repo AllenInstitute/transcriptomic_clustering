{
 "cells": [
  {
   "cell_type": "code",
   "execution_count": null,
   "id": "5ee4098b",
   "metadata": {},
   "outputs": [],
   "source": [
    "%config Application.log_level='INFO'\n",
    "import logging\n",
    "logging.getLogger().setLevel(logging.INFO)"
   ]
  },
  {
   "cell_type": "code",
   "execution_count": null,
   "id": "902e2db3",
   "metadata": {},
   "outputs": [],
   "source": [
    "import tempfile\n",
    "import os\n",
    "import shutil\n",
    "import json\n",
    "\n",
    "import matplotlib.pyplot as plt\n",
    "\n",
    "import numpy as np\n",
    "import scipy as scp\n",
    "import scanpy as sc\n",
    "import transcriptomic_clustering as tc\n",
    "from transcriptomic_clustering.iterative_clustering import (build_cluster_dict, iter_clust, OnestepKwargs)"
   ]
  },
  {
   "cell_type": "code",
   "execution_count": null,
   "id": "da7c782b",
   "metadata": {},
   "outputs": [],
   "source": [
    "# Setup input/output files\n",
    "output_file = os.path.expanduser('clusters.json')\n",
    "\n",
    "path_to_adata = './data/tasic2016counts_sparse.h5ad'\n",
    "adata = sc.read_h5ad(path_to_adata, backed='r')"
   ]
  },
  {
   "cell_type": "code",
   "execution_count": null,
   "id": "d98669ff",
   "metadata": {},
   "outputs": [],
   "source": [
    "# Set memory params\n",
    "tc.memory.set_memory_limit(GB=1)\n",
    "tc.memory.allow_chunking = True"
   ]
  },
  {
   "cell_type": "code",
   "execution_count": null,
   "id": "27d91c77",
   "metadata": {},
   "outputs": [],
   "source": [
    "# Assign kwargs. Any unassigned args will be set to their respective function defaults\n",
    "merge_clusters_kwargs = {\n",
    "    'thresholds': {\n",
    "        'q1_thresh': 0.5,\n",
    "        'q2_thresh': None,\n",
    "        'cluster_size_thresh': 15,\n",
    "        'qdiff_thresh': 0.7,\n",
    "        'padj_thresh': 0.05,\n",
    "        'lfc_thresh': 1.0,\n",
    "        'score_thresh': 200,\n",
    "        'low_thresh': 1\n",
    "    },\n",
    "    'de_method': 'ebayes'\n",
    "}\n",
    "onestep_kwargs = OnestepKwargs(merge_clusters_kwargs=merge_clusters_kwargs)"
   ]
  },
  {
   "cell_type": "code",
   "execution_count": null,
   "id": "83854b5b",
   "metadata": {},
   "outputs": [],
   "source": [
    "# Remove old tmp_dir and make new one\n",
    "try:\n",
    "    shutil.rmtree(tmp_dir)\n",
    "except NameError as e:\n",
    "    pass # tmp_dir didn't exist\n",
    "tmp_dir = tempfile.mkdtemp()"
   ]
  },
  {
   "cell_type": "code",
   "execution_count": null,
   "id": "d997e886",
   "metadata": {
    "scrolled": false
   },
   "outputs": [],
   "source": [
    "# normalize adata\n",
    "norm_adata_path = os.path.join(tmp_dir, 'normalized.h5ad')\n",
    "normalized_adata = tc.normalize(adata,copy_to=norm_adata_path)"
   ]
  },
  {
   "cell_type": "code",
   "execution_count": null,
   "id": "33a8fdff",
   "metadata": {},
   "outputs": [],
   "source": [
    "# Run clustering\n",
    "clusters = iter_clust(\n",
    "    normalized_adata,\n",
    "    min_samples=4,\n",
    "    onestep_kwargs=onestep_kwargs,\n",
    "    random_seed=123,\n",
    "    tmp_dir=tmp_dir\n",
    ")\n",
    "cluster_dict = build_cluster_dict(clusters)"
   ]
  },
  {
   "cell_type": "code",
   "execution_count": null,
   "id": "e95b7fd7",
   "metadata": {},
   "outputs": [],
   "source": [
    "clusters"
   ]
  },
  {
   "cell_type": "code",
   "execution_count": null,
   "id": "1c964d37",
   "metadata": {},
   "outputs": [],
   "source": [
    "cluster_by_obs = np.zeros(normalized_adata.n_obs, dtype=int)\n",
    "for cluster, obs in cluster_dict.items():\n",
    "    print(obs)\n",
    "    cluster_by_obs[obs] = cluster\n",
    "cluster_means, _, _ = tc.get_cluster_means(normalized_adata, cluster_dict, cluster_by_obs)\n",
    "linkage, labels = tc.hclust(cluster_means)"
   ]
  },
  {
   "cell_type": "code",
   "execution_count": null,
   "id": "893b243d",
   "metadata": {},
   "outputs": [],
   "source": [
    "%matplotlib inline\n",
    "\n",
    "plt.figure()\n",
    "dn = scp.cluster.hierarchy.dendrogram(linkage, labels=labels)\n",
    "plt.show"
   ]
  },
  {
   "cell_type": "code",
   "execution_count": null,
   "id": "96aeafcc",
   "metadata": {},
   "outputs": [],
   "source": [
    "with open(output_file, 'w') as f:\n",
    "    json.dump(cluster_dict, f)"
   ]
  },
  {
   "cell_type": "code",
   "execution_count": null,
   "id": "3236564f",
   "metadata": {},
   "outputs": [],
   "source": [
    "shutil.rmtree(tmp_dir)"
   ]
  },
  {
   "cell_type": "code",
   "execution_count": null,
   "id": "fc190716",
   "metadata": {},
   "outputs": [],
   "source": []
  }
 ],
 "metadata": {
  "kernelspec": {
   "display_name": "Python [conda env:tc] *",
   "language": "python",
   "name": "conda-env-tc-py"
  },
  "language_info": {
   "codemirror_mode": {
    "name": "ipython",
    "version": 3
   },
   "file_extension": ".py",
   "mimetype": "text/x-python",
   "name": "python",
   "nbconvert_exporter": "python",
   "pygments_lexer": "ipython3",
   "version": "3.8.8"
  }
 },
 "nbformat": 4,
 "nbformat_minor": 5
}
